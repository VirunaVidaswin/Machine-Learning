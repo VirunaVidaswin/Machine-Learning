{
  "cells": [
    {
      "cell_type": "markdown",
      "metadata": {
        "id": "view-in-github",
        "colab_type": "text"
      },
      "source": [
        "<a href=\"https://colab.research.google.com/github/VirunaVidaswin/Machine-Learning/blob/main/Machine_Learning.ipynb\" target=\"_parent\"><img src=\"https://colab.research.google.com/assets/colab-badge.svg\" alt=\"Open In Colab\"/></a>"
      ]
    },
    {
      "cell_type": "markdown",
      "metadata": {
        "id": "OMzLun4lZjQ-"
      },
      "source": [
        "# Data Preprocessing"
      ]
    },
    {
      "cell_type": "markdown",
      "metadata": {
        "id": "YtPOzvFgkAdu"
      },
      "source": [
        "1. Loading Dataset"
      ]
    },
    {
      "cell_type": "code",
      "execution_count": null,
      "metadata": {
        "colab": {
          "base_uri": "https://localhost:8080/"
        },
        "id": "nG3re9OD8OXQ",
        "outputId": "cc7e2561-0868-43e4-f306-d3363f0ac594"
      },
      "outputs": [
        {
          "name": "stdout",
          "output_type": "stream",
          "text": [
            "\n",
            "Total Rows: 45211\n",
            "Total Cols: 17\n",
            "\n",
            "Dataset Head:\n",
            "                age        balance           day      duration      campaign  \\\n",
            "count  45211.000000   45211.000000  45211.000000  45211.000000  45211.000000   \n",
            "mean      40.936210    1362.272058     15.806419    258.163080      2.763841   \n",
            "std       10.618762    3044.765829      8.322476    257.527812      3.098021   \n",
            "min       18.000000   -8019.000000      1.000000      0.000000      1.000000   \n",
            "25%       33.000000      72.000000      8.000000    103.000000      1.000000   \n",
            "50%       39.000000     448.000000     16.000000    180.000000      2.000000   \n",
            "75%       48.000000    1428.000000     21.000000    319.000000      3.000000   \n",
            "max       95.000000  102127.000000     31.000000   4918.000000     63.000000   \n",
            "\n",
            "              pdays      previous  \n",
            "count  45211.000000  45211.000000  \n",
            "mean      40.197828      0.580323  \n",
            "std      100.128746      2.303441  \n",
            "min       -1.000000      0.000000  \n",
            "25%       -1.000000      0.000000  \n",
            "50%       -1.000000      0.000000  \n",
            "75%       -1.000000      0.000000  \n",
            "max      871.000000    275.000000  \n"
          ]
        }
      ],
      "source": [
        "import pandas as pd\n",
        "import numpy as np\n",
        "from sklearn.model_selection import train_test_split\n",
        "from sklearn.preprocessing import StandardScaler, LabelEncoder\n",
        "from imblearn.over_sampling import SMOTE\n",
        "\n",
        "df = pd.read_csv('/content/bank-full.csv', sep=';')\n",
        "print(f\"\\nTotal Rows: {df.shape[0]}\")\n",
        "print(f\"Total Cols: {df.shape[1]}\")\n",
        "print(\"\\nDataset Head:\")\n",
        "print(df.describe())\n",
        "\n"
      ]
    },
    {
      "cell_type": "markdown",
      "metadata": {
        "id": "Dw7HRMHNj3y7"
      },
      "source": [
        "2. Categorical column data values"
      ]
    },
    {
      "cell_type": "code",
      "execution_count": null,
      "metadata": {
        "colab": {
          "base_uri": "https://localhost:8080/"
        },
        "id": "sTvTFXsTj29L",
        "outputId": "b1ec69e1-9d69-4150-f2c6-fc44dfa65fc5"
      },
      "outputs": [
        {
          "name": "stdout",
          "output_type": "stream",
          "text": [
            "\n",
            "Column: job ,  Values: ['management' 'technician' 'entrepreneur' 'blue-collar' 'unknown'\n",
            " 'retired' 'admin.' 'services' 'self-employed' 'unemployed' 'housemaid'\n",
            " 'student']\n",
            "\n",
            "Column: marital ,  Values: ['married' 'single' 'divorced']\n",
            "\n",
            "Column: education ,  Values: ['tertiary' 'secondary' 'unknown' 'primary']\n",
            "\n",
            "Column: default ,  Values: ['no' 'yes']\n",
            "\n",
            "Column: housing ,  Values: ['yes' 'no']\n",
            "\n",
            "Column: loan ,  Values: ['no' 'yes']\n",
            "\n",
            "Column: contact ,  Values: ['unknown' 'cellular' 'telephone']\n",
            "\n",
            "Column: month ,  Values: ['may' 'jun' 'jul' 'aug' 'oct' 'nov' 'dec' 'jan' 'feb' 'mar' 'apr' 'sep']\n",
            "\n",
            "Column: poutcome ,  Values: ['unknown' 'failure' 'other' 'success']\n",
            "\n",
            "Column: y ,  Values: ['no' 'yes']\n"
          ]
        }
      ],
      "source": [
        "for column in df.select_dtypes('object'):\n",
        "    print(f\"\\nColumn: {column} , \"+f\" Values: {df[column].unique()}\")\n",
        "\n"
      ]
    },
    {
      "cell_type": "markdown",
      "metadata": {
        "id": "y95ks9wukOcy"
      },
      "source": [
        "Missing values"
      ]
    },
    {
      "cell_type": "code",
      "execution_count": null,
      "metadata": {
        "colab": {
          "background_save": true,
          "base_uri": "https://localhost:8080/"
        },
        "id": "QQgznhSRkQrZ",
        "outputId": "b7b1f1f1-e742-4dfb-d2ac-b662f3784b19"
      },
      "outputs": [
        {
          "ename": "IndentationError",
          "evalue": "unexpected indent (<ipython-input-34-780c328f1c50>, line 3)",
          "output_type": "error",
          "traceback": [
            "\u001b[0;36m  File \u001b[0;32m\"<ipython-input-34-780c328f1c50>\"\u001b[0;36m, line \u001b[0;32m3\u001b[0m\n\u001b[0;31m    for col in df.columns:\u001b[0m\n\u001b[0m    ^\u001b[0m\n\u001b[0;31mIndentationError\u001b[0m\u001b[0;31m:\u001b[0m unexpected indent\n"
          ]
        }
      ],
      "source": [
        "missing_values = df.isnull().sum()\n",
        "print(missing_values)\n",
        " for col in df.columns:\n",
        "  print(col.df[])"
      ]
    },
    {
      "cell_type": "code",
      "execution_count": null,
      "metadata": {
        "id": "_7ShH5DoZeMv"
      },
      "outputs": [],
      "source": [
        "# Encode categorical variables\n",
        "categorical_cols = data.select_dtypes(include=['object']).columns\n",
        "le = LabelEncoder()\n",
        "for col in categorical_cols:\n",
        "    data[col] = le.fit_transform(data[col])\n",
        "\n",
        "# Define features (X) and target (y)\n",
        "X = data.drop(columns=['y'])  # 'y' is the target column\n",
        "y = data['y']\n",
        "\n",
        "# Balance the dataset if the target class is imbalanced\n",
        "print(\"\\nClass Distribution Before Balancing:\")\n",
        "print(y.value_counts())\n",
        "smote = SMOTE(random_state=42)\n",
        "X_resampled, y_resampled = smote.fit_resample(X, y)\n",
        "\n",
        "# Check the class distribution after balancing\n",
        "print(\"\\nClass Distribution After Balancing:\")\n",
        "print(pd.Series(y_resampled).value_counts())\n",
        "\n",
        "# Split the data into training and test sets\n",
        "X_train, X_test, y_train, y_test = train_test_split(X_resampled, y_resampled, test_size=0.2, random_state=42, stratify=y_resampled)\n",
        "\n",
        "# Standardize numerical features\n",
        "scaler = StandardScaler()\n",
        "X_train = scaler.fit_transform(X_train)\n",
        "X_test = scaler.transform(X_test)\n",
        "\n",
        "# Save the processed data for model building\n",
        "np.save('X_train.npy', X_train)\n",
        "np.save('X_test.npy', X_test)\n",
        "np.save('y_train.npy', y_train)\n",
        "np.save('y_test.npy', y_test)\n",
        "\n",
        "print(\"\\nData preprocessing completed. Files saved for training and testing.\")"
      ]
    },
    {
      "cell_type": "code",
      "execution_count": null,
      "metadata": {
        "colab": {
          "base_uri": "https://localhost:8080/"
        },
        "id": "fqMDKT0R8gma",
        "outputId": "0931b676-0075-4efe-ce81-d9996cf4e9b3"
      },
      "outputs": [
        {
          "name": "stdout",
          "output_type": "stream",
          "text": [
            "\n",
            "--- Random Forest Classifier ---\n",
            "Classification Report:\n",
            "              precision    recall  f1-score   support\n",
            "\n",
            "           0       0.92      0.86      0.89      7985\n",
            "           1       0.87      0.93      0.90      7984\n",
            "\n",
            "    accuracy                           0.89     15969\n",
            "   macro avg       0.89      0.89      0.89     15969\n",
            "weighted avg       0.89      0.89      0.89     15969\n",
            "\n",
            "ROC-AUC Score: 0.9582783287300964\n",
            "Confusion Matrix:\n",
            "[[6838 1147]\n",
            " [ 572 7412]]\n",
            "\n",
            "--- Neural Network Classifier ---\n",
            "Classification Report:\n",
            "              precision    recall  f1-score   support\n",
            "\n",
            "           0       0.90      0.90      0.90      7985\n",
            "           1       0.90      0.90      0.90      7984\n",
            "\n",
            "    accuracy                           0.90     15969\n",
            "   macro avg       0.90      0.90      0.90     15969\n",
            "weighted avg       0.90      0.90      0.90     15969\n",
            "\n",
            "ROC-AUC Score: 0.963326292534976\n",
            "Confusion Matrix:\n",
            "[[7213  772]\n",
            " [ 828 7156]]\n",
            "\n",
            "--- Model Comparison ---\n",
            "Random Forest ROC-AUC: 0.9582783287300964\n",
            "Neural Network ROC-AUC: 0.963326292534976\n"
          ]
        }
      ],
      "source": [
        "import numpy as np\n",
        "from sklearn.ensemble import RandomForestClassifier\n",
        "from sklearn.neural_network import MLPClassifier\n",
        "from sklearn.metrics import classification_report, roc_auc_score, confusion_matrix\n",
        "\n",
        "# Load the preprocessed data\n",
        "X_train = np.load('X_train.npy')\n",
        "X_test = np.load('X_test.npy')\n",
        "y_train = np.load('y_train.npy')\n",
        "y_test = np.load('y_test.npy')\n",
        "\n",
        "# Random Forest Model\n",
        "print(\"\\n--- Random Forest Classifier ---\")\n",
        "rf_model = RandomForestClassifier(n_estimators=100, max_depth=10, random_state=42)\n",
        "rf_model.fit(X_train, y_train)\n",
        "\n",
        "# Random Forest Predictions\n",
        "rf_predictions = rf_model.predict(X_test)\n",
        "rf_probabilities = rf_model.predict_proba(X_test)[:, 1]\n",
        "\n",
        "# Random Forest Evaluation\n",
        "print(\"Classification Report:\")\n",
        "print(classification_report(y_test, rf_predictions))\n",
        "print(\"ROC-AUC Score:\", roc_auc_score(y_test, rf_probabilities))\n",
        "print(\"Confusion Matrix:\")\n",
        "print(confusion_matrix(y_test, rf_predictions))\n",
        "\n",
        "# Neural Network Model\n",
        "print(\"\\n--- Neural Network Classifier ---\")\n",
        "nn_model = MLPClassifier(hidden_layer_sizes=(64, 32), max_iter=500, random_state=42)\n",
        "nn_model.fit(X_train, y_train)\n",
        "\n",
        "# Neural Network Predictions\n",
        "nn_predictions = nn_model.predict(X_test)\n",
        "nn_probabilities = nn_model.predict_proba(X_test)[:, 1]\n",
        "\n",
        "# Neural Network Evaluation\n",
        "print(\"Classification Report:\")\n",
        "print(classification_report(y_test, nn_predictions))\n",
        "print(\"ROC-AUC Score:\", roc_auc_score(y_test, nn_probabilities))\n",
        "print(\"Confusion Matrix:\")\n",
        "print(confusion_matrix(y_test, nn_predictions))\n",
        "\n",
        "# Comparison Summary\n",
        "print(\"\\n--- Model Comparison ---\")\n",
        "print(\"Random Forest ROC-AUC:\", roc_auc_score(y_test, rf_probabilities))\n",
        "print(\"Neural Network ROC-AUC:\", roc_auc_score(y_test, nn_probabilities))\n"
      ]
    },
    {
      "cell_type": "code",
      "execution_count": null,
      "metadata": {
        "id": "c2lR8t9u9S62"
      },
      "outputs": [],
      "source": []
    }
  ],
  "metadata": {
    "colab": {
      "provenance": [],
      "authorship_tag": "ABX9TyOyLECECvvjQhVW5SMYvM7t",
      "include_colab_link": true
    },
    "kernelspec": {
      "display_name": "Python 3",
      "name": "python3"
    },
    "language_info": {
      "name": "python"
    }
  },
  "nbformat": 4,
  "nbformat_minor": 0
}